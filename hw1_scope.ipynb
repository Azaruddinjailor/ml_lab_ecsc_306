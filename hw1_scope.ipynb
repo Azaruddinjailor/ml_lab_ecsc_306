{
 "cells": [
  {
   "cell_type": "code",
   "execution_count": 1,
   "metadata": {},
   "outputs": [
    {
     "name": "stdout",
     "output_type": "stream",
     "text": [
      "9\n"
     ]
    }
   ],
   "source": [
    "import tensorflow as tf\n",
    "with tf.name_scope(\"homework1\"):\n",
    "    with tf.name_scope(\"scope_1\"):\n",
    "        a = 7\n",
    "        b = 4\n",
    "        c = tf.pow(a,2)\n",
    "        d = tf.pow(b,2)\n",
    "    with tf.name_scope(\"scope_2\"):\n",
    "        e = tf.add(c,d)\n",
    "        f = tf.multiply(tf.multiply(2,a),b)\n",
    "\n",
    "g = tf.subtract(e,f)       \n",
    "       \n",
    "        \n",
    "        \n",
    "with tf.Session() as sess:\n",
    "    writer = tf.summary.FileWriter(\"/tmp/tboard/output_scope\", sess.graph)\n",
    "    print(sess.run(g))\n",
    "    writer.close()"
   ]
  }
 ],
 "metadata": {
  "kernelspec": {
   "display_name": "Python 3",
   "language": "python",
   "name": "python3"
  },
  "language_info": {
   "codemirror_mode": {
    "name": "ipython",
    "version": 3
   },
   "file_extension": ".py",
   "mimetype": "text/x-python",
   "name": "python",
   "nbconvert_exporter": "python",
   "pygments_lexer": "ipython3",
   "version": "3.6.1"
  }
 },
 "nbformat": 4,
 "nbformat_minor": 2
}
