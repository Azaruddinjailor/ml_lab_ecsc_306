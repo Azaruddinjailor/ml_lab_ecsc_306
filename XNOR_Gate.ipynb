{
 "cells": [
  {
   "cell_type": "code",
   "execution_count": 109,
   "metadata": {
    "collapsed": true
   },
   "outputs": [],
   "source": [
    "import tensorflow as tf\n",
    "import numpy as np"
   ]
  },
  {
   "cell_type": "code",
   "execution_count": 110,
   "metadata": {
    "collapsed": true
   },
   "outputs": [],
   "source": [
    "x=tf.placeholder(tf.float32,shape=[None,2])\n",
    "y=tf.placeholder(tf.float32,shape=[None,1])"
   ]
  },
  {
   "cell_type": "code",
   "execution_count": 111,
   "metadata": {
    "collapsed": true
   },
   "outputs": [],
   "source": [
    "weights=tf.Variable(tf.random_normal([2,1]),dtype=tf.float32)\n",
    "bias=tf.Variable(tf.random_normal([1]),dtype=tf.float32)"
   ]
  },
  {
   "cell_type": "code",
   "execution_count": 112,
   "metadata": {},
   "outputs": [],
   "source": [
    "\n",
    "\n",
    "multiply1=tf.add(tf.matmul(x,weights),bias)\n",
    "z=tf.nn.sigmoid(multiply1)"
   ]
  },
  {
   "cell_type": "code",
   "execution_count": 113,
   "metadata": {
    "collapsed": true
   },
   "outputs": [],
   "source": [
    "cost=tf.reduce_mean((y*tf.log(z)+(1-y)*tf.log(1-z))*-1)\n",
    "optimizer = tf.train.GradientDescentOptimizer(0.01).minimize(cost)\n"
   ]
  },
  {
   "cell_type": "code",
   "execution_count": 115,
   "metadata": {},
   "outputs": [],
   "source": [
    "inp=np.array([[0,0],[0,1],[1,0],[1,1]])\n",
    "op=np.array([[0],[0],[0],[1]])\n",
    "#print(inp)"
   ]
  },
  {
   "cell_type": "code",
   "execution_count": 116,
   "metadata": {
    "collapsed": true
   },
   "outputs": [],
   "source": [
    "inp1=np.array([[0,0],[0,1],[1,0],[1,1]])\n",
    "op1=np.array([[0],[1],[1],[1]])"
   ]
  },
  {
   "cell_type": "code",
   "execution_count": 117,
   "metadata": {},
   "outputs": [
    {
     "name": "stdout",
     "output_type": "stream",
     "text": [
      "iteration=  0 cost=  0.74168\n",
      "iteration=  1000 cost=  0.507207\n",
      "iteration=  2000 cost=  0.388883\n",
      "iteration=  3000 cost=  0.318518\n",
      "iteration=  4000 cost=  0.271422\n",
      "iteration=  5000 cost=  0.237252\n",
      "iteration=  6000 cost=  0.211077\n",
      "iteration=  7000 cost=  0.190249\n",
      "iteration=  8000 cost=  0.173212\n",
      "iteration=  9000 cost=  0.158979\n",
      "iteration=  10000 cost=  0.14689\n",
      "iteration=  11000 cost=  0.136486\n",
      "iteration=  12000 cost=  0.127431\n",
      "Validating output for AND GATE\n",
      "[[ 0.00577951]\n",
      " [ 0.13512336]\n",
      " [ 0.13525444]\n",
      " [ 0.80782884]]\n",
      "...................................................\n",
      "iteration=  0 cost=  1.05534\n",
      "iteration=  1000 cost=  0.116811\n",
      "iteration=  2000 cost=  0.0688706\n",
      "iteration=  3000 cost=  0.0577891\n",
      "iteration=  4000 cost=  0.052865\n",
      "iteration=  5000 cost=  0.0496318\n",
      "iteration=  6000 cost=  0.0470474\n",
      "iteration=  7000 cost=  0.0448044\n",
      "iteration=  8000 cost=  0.0427915\n",
      "iteration=  9000 cost=  0.0409581\n",
      "iteration=  10000 cost=  0.0392754\n",
      "iteration=  11000 cost=  0.0377237\n",
      "iteration=  12000 cost=  0.0362877\n",
      "Validating output for OR GATE\n",
      "[[ 0.07812656]\n",
      " [ 0.96864486]\n",
      " [ 0.96865016]\n",
      " [ 0.99991119]]\n"
     ]
    }
   ],
   "source": [
    "with tf.Session() as sess:\n",
    "    \n",
    "   \n",
    "    tf.global_variables_initializer().run()\n",
    "    for i in range(12001):\n",
    "        res,_=sess.run([cost,optimizer],feed_dict={x:inp,y:op})\n",
    "        \n",
    "        if i%1000==0:\n",
    "            print (\"iteration= \",i,\"cost= \",res)\n",
    "           \n",
    "    print (\"Validating output for AND GATE\")\n",
    "    andresult=sess.run(z,feed_dict={x:inp})\n",
    "    print (andresult)\n",
    "        \n",
    "    print (\"...................................................\")\n",
    "    for i in range(12001):\n",
    "        res1,_=sess.run([cost,optimizer],feed_dict={x:inp1,y:op1})\n",
    "        \n",
    "        if i%1000==0:\n",
    "            print (\"iteration= \",i,\"cost= \",res1)\n",
    "           \n",
    "    print (\"Validating output for OR GATE\")\n",
    "    orresult=sess.run(z,feed_dict={x:inp1})\n",
    "    print (orresult)\n",
    "     "
   ]
  },
  {
   "cell_type": "code",
   "execution_count": 118,
   "metadata": {},
   "outputs": [],
   "source": [
    "\n",
    "x1=tf.placeholder(tf.float32,shape=[None,1])\n",
    "y1=tf.placeholder(tf.float32,shape=[None,1])\n",
    "\n",
    "weights=tf.Variable(tf.random_normal([1,1]),dtype=tf.float32)\n",
    "bias=tf.Variable(tf.random_normal([1]),dtype=tf.float32)\n",
    "\n",
    "\n",
    "\n",
    "multiply1=tf.add(tf.matmul(x1,weights),bias)\n",
    "z=tf.nn.sigmoid(multiply1)\n",
    "\n",
    "\n",
    "cost=tf.reduce_mean((y1*tf.log(z)+(1-y1)*tf.log(1-z))*-1)\n",
    "optimizer = tf.train.GradientDescentOptimizer(0.01).minimize(cost)"
   ]
  },
  {
   "cell_type": "code",
   "execution_count": 121,
   "metadata": {},
   "outputs": [
    {
     "name": "stdout",
     "output_type": "stream",
     "text": [
      "input  for nor\n",
      "[[0]\n",
      " [1]\n",
      " [1]\n",
      " [1]]\n",
      "ouput  for nor\n",
      "[[1]\n",
      " [0]\n",
      " [0]\n",
      " [0]]\n"
     ]
    }
   ],
   "source": [
    "i=0\n",
    "inp3=np.array([[0],[0],[0],[0]])\n",
    "op3=np.array([[0],[0],[0],[0]])\n",
    "\n",
    "#inp3[0]=4;\n",
    "#print(orresult) \n",
    "for i in range (4):\n",
    "    if(orresult[i]<0.5):\n",
    "        inp3[i]=0\n",
    "        op3[i]=1\n",
    "    else:\n",
    "        inp3[i]=1\n",
    "        op3[i]=0\n",
    "print(\"input  for nor\")    \n",
    "print(inp3)\n",
    "print(\"ouput  for nor\")    \n",
    "print(op3)\n",
    "\n",
    "\n",
    "#print(orresult) "
   ]
  },
  {
   "cell_type": "code",
   "execution_count": 122,
   "metadata": {},
   "outputs": [
    {
     "name": "stdout",
     "output_type": "stream",
     "text": [
      "iteration=  0 cost=  0.637177\n",
      "iteration=  1000 cost=  0.257041\n",
      "iteration=  2000 cost=  0.189845\n",
      "iteration=  3000 cost=  0.147848\n",
      "iteration=  4000 cost=  0.119681\n",
      "iteration=  5000 cost=  0.0998441\n",
      "iteration=  6000 cost=  0.0852809\n",
      "iteration=  7000 cost=  0.0742147\n",
      "iteration=  8000 cost=  0.0655624\n",
      "iteration=  9000 cost=  0.0586349\n",
      "iteration=  10000 cost=  0.052977\n",
      "iteration=  11000 cost=  0.0482775\n",
      "iteration=  12000 cost=  0.0443173\n",
      "Validating output for NOR GATE\n",
      "[[ 0.89683402]\n",
      " [ 0.02253229]\n",
      " [ 0.02253229]\n",
      " [ 0.02253229]]\n"
     ]
    }
   ],
   "source": [
    "\n",
    "\n",
    "with tf.Session() as sess:\n",
    "    \n",
    "   \n",
    "    tf.global_variables_initializer().run()\n",
    "    for i in range(12001):\n",
    "        res3,_=sess.run([cost,optimizer],feed_dict={x1:inp3,y1:op3})\n",
    "        \n",
    "        if i%1000==0:\n",
    "            print (\"iteration= \",i,\"cost= \",res3)\n",
    "           \n",
    "    print (\"Validating output for NOR GATE\")\n",
    "    norresult=sess.run(z,feed_dict={x1:inp3})\n",
    "    print (norresult)\n",
    "    "
   ]
  },
  {
   "cell_type": "code",
   "execution_count": 123,
   "metadata": {
    "collapsed": true
   },
   "outputs": [],
   "source": [
    "x=tf.placeholder(tf.float32,shape=[None,2])\n",
    "y=tf.placeholder(tf.float32,shape=[None,1])\n",
    "\n",
    "weights=tf.Variable(tf.random_normal([2,1]),dtype=tf.float32)\n",
    "bias=tf.Variable(tf.random_normal([1]),dtype=tf.float32)\n",
    "\n",
    "multiply1=tf.add(tf.matmul(x,weights),bias)\n",
    "z=tf.nn.sigmoid(multiply1)\n",
    "\n",
    "cost=tf.reduce_mean((y*tf.log(z)+(1-y)*tf.log(1-z))*-1)\n",
    "optimizer = tf.train.GradientDescentOptimizer(0.01).minimize(cost)"
   ]
  },
  {
   "cell_type": "code",
   "execution_count": 124,
   "metadata": {},
   "outputs": [
    {
     "name": "stdout",
     "output_type": "stream",
     "text": [
      "Output of Xnor\n",
      "[[1]\n",
      " [0]\n",
      " [0]\n",
      " [1]]\n"
     ]
    }
   ],
   "source": [
    "i=0\n",
    "inp4=np.array([[0,0],[0,0],[0,0],[0,0]])\n",
    "#op4=np.array([[0],[0],[0],[0]])\n",
    "inp4[3,0]=8\n",
    "#print(inp4)\n",
    "#print(norresult)\n",
    "for i in range (4):\n",
    "    #print(norresult[i])\n",
    "    if(norresult[i] <  0.5):\n",
    "        inp4[i,0]=0\n",
    "    else:\n",
    "        inp4[i,0]=1\n",
    "    if(andresult[i] < 0.5):\n",
    "        inp4[i,1]=0\n",
    "    else:\n",
    "        inp4[i,1]=1        \n",
    "        #op3[i]=0\n",
    "#print(inp4)\n",
    "#print(andresult)\n",
    "op4 = np.array([[1],[0],[0],[1]])\n",
    "print(\"Output of Xnor\")\n",
    "print(op4)"
   ]
  },
  {
   "cell_type": "code",
   "execution_count": 125,
   "metadata": {},
   "outputs": [
    {
     "name": "stdout",
     "output_type": "stream",
     "text": [
      "iteration=  0 cost=  0.821702\n",
      "iteration=  1000 cost=  0.549423\n",
      "iteration=  2000 cost=  0.394604\n",
      "iteration=  3000 cost=  0.300256\n",
      "iteration=  4000 cost=  0.238942\n",
      "iteration=  5000 cost=  0.196772\n",
      "iteration=  6000 cost=  0.166377\n",
      "iteration=  7000 cost=  0.143617\n",
      "iteration=  8000 cost=  0.126035\n",
      "iteration=  9000 cost=  0.112097\n",
      "iteration=  10000 cost=  0.10081\n",
      "iteration=  11000 cost=  0.0915022\n",
      "iteration=  12000 cost=  0.0837078\n",
      "Validating output for XOR GATE\n",
      "[[ 0.92931789]\n",
      " [ 0.08925379]\n",
      " [ 0.08925379]\n",
      " [ 0.92819268]]\n"
     ]
    }
   ],
   "source": [
    "with tf.Session() as sess:\n",
    "    \n",
    "   \n",
    "    tf.global_variables_initializer().run()\n",
    "    for i in range(12001):\n",
    "        res4,_=sess.run([cost,optimizer],feed_dict={x:inp4,y:op4})\n",
    "        \n",
    "        if i%1000==0:\n",
    "            print (\"iteration= \",i,\"cost= \",res4)\n",
    "           \n",
    "    print (\"Validating output for XOR GATE\")\n",
    "    xnoresult=sess.run(z,feed_dict={x:inp4})\n",
    "    print (xnoresult)"
   ]
  }
 ],
 "metadata": {
  "kernelspec": {
   "display_name": "Python 3",
   "language": "python",
   "name": "python3"
  },
  "language_info": {
   "codemirror_mode": {
    "name": "ipython",
    "version": 3
   },
   "file_extension": ".py",
   "mimetype": "text/x-python",
   "name": "python",
   "nbconvert_exporter": "python",
   "pygments_lexer": "ipython3",
   "version": "3.6.1"
  }
 },
 "nbformat": 4,
 "nbformat_minor": 2
}
