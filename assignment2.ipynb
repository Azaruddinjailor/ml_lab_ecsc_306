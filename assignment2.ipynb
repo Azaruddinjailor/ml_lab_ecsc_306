{
 "cells": [
  {
   "cell_type": "code",
   "execution_count": 1,
   "metadata": {},
   "outputs": [
    {
     "name": "stdout",
     "output_type": "stream",
     "text": [
      "array1 =  [ 1.52999997  2.52999997  6.28999996  7.88000011  8.60000038]\n",
      "array2 =  [  2.3599999    5.25        13.23999977  16.87999916  18.55999947]\n",
      "mean1 = 5.366\n",
      "mean2 = 11.258\n",
      "variance1 = 40.390523354\n",
      "covariance =  90.7512\n",
      "m =  2.24684\n",
      "c =  -0.798561\n",
      "Calculating the value of Y for array1\n",
      "y=  2.63911\n",
      "y=  4.88595\n",
      "y=  13.3341\n",
      "y=  16.9066\n",
      "y=  18.5243\n"
     ]
    }
   ],
   "source": [
    "import tensorflow as tf\n",
    "import numpy as np\n",
    "array1 = np.array([1.53, 2.53, 6.29, 7.88, 8.6], dtype=np.float32)\n",
    "print (\"array1 = \",array1)\n",
    "array2 = np.array([2.36, 5.25, 13.24, 16.88, 18.56], dtype=np.float32)\n",
    "print (\"array2 = \",array2)\n",
    "\n",
    "mean1 = np.mean(array1)\n",
    "print (\"mean1 =\" ,mean1)\n",
    "\n",
    "mean2 = np.mean(array2)\n",
    "print (\"mean2 =\" ,mean2)\n",
    "variance1 = 0\n",
    "for x in range(0, array1.size):\n",
    "    variance1 =  variance1 + pow((array1[x]-mean1),2) \n",
    "print(\"variance1 =\",variance1)\n",
    "covar = 0\n",
    "for x in range(0, array1.size):\n",
    "    covar = covar + tf.multiply(tf.subtract(array1[x],mean1), tf.subtract(array2[x],mean2))\n",
    "\n",
    "m = covar / variance1\n",
    "c = mean2 - m *mean1\n",
    "with tf.Session() as sess:\n",
    "        print(\"covariance = \",sess.run(covar))\n",
    "        print(\"m = \",sess.run(m))\n",
    "        print(\"c = \",sess.run(c))\n",
    "        print(\"Calculating the value of Y for array1\")\n",
    "        for x in range(0, array1.size):\n",
    "   # x= 2.53     \n",
    "             y= m*array1[x]+c\n",
    "            # array3[x] = y\n",
    "             print(\"y= \",sess.run(y))\n",
    "        \n",
    "#print (array3)\n"
   ]
  }
 ],
 "metadata": {
  "kernelspec": {
   "display_name": "Python 3",
   "language": "python",
   "name": "python3"
  },
  "language_info": {
   "codemirror_mode": {
    "name": "ipython",
    "version": 3
   },
   "file_extension": ".py",
   "mimetype": "text/x-python",
   "name": "python",
   "nbconvert_exporter": "python",
   "pygments_lexer": "ipython3",
   "version": "3.6.1"
  }
 },
 "nbformat": 4,
 "nbformat_minor": 2
}
