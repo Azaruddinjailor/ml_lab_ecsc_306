{
 "cells": [
  {
   "cell_type": "code",
   "execution_count": 10,
   "metadata": {},
   "outputs": [
    {
     "name": "stdout",
     "output_type": "stream",
     "text": [
      "array1 =  [1.5, 1.7, 2.4, 3.4, 4.55, 6.35]\n",
      "array2 =  [1.9, 1.95, 1.988, 2.49, 3.38, 4.65]\n"
     ]
    }
   ],
   "source": [
    "import tensorflow as tf\n",
    "#import numpy as np\n",
    "array1 =[1.5,1.7,2.4,3.4,4.55,6.35]\n",
    "array2 =[1.9,1.95,1.988,2.49,3.38,4.65]\n",
    "#print(np.mean(array))\n",
    "#array1 = np.array([1.53, 2.53, 6.29, 7.88, 8.6], dtype=np.float32)\n",
    "print (\"array1 = \",array1)\n",
    "#array2 = np.array([2.36, 5.25, 13.24, 16.88, 18.56], dtype=np.float32)\n",
    "print (\"array2 = \",array2)\n"
   ]
  },
  {
   "cell_type": "code",
   "execution_count": 12,
   "metadata": {},
   "outputs": [
    {
     "name": "stdout",
     "output_type": "stream",
     "text": [
      "mean1 = 3.3166666666666664\n",
      "mean2 = 2.726333333333333\n"
     ]
    }
   ],
   "source": [
    "size1=len(array1)\n",
    "mean1 = sum(array1)/size1\n",
    "print (\"mean1 =\" ,mean1)\n",
    "\n",
    "size2=len(array2)\n",
    "mean2 = sum(array2)/size2\n",
    "print (\"mean2 =\" ,mean2)\n"
   ]
  },
  {
   "cell_type": "code",
   "execution_count": 13,
   "metadata": {},
   "outputs": [
    {
     "name": "stdout",
     "output_type": "stream",
     "text": [
      "variance1 = 8.741666666666667\n"
     ]
    }
   ],
   "source": [
    "variance1 = 0\n",
    "for x in range(0, size1):\n",
    "    variance1 =  variance1 + (pow((array1[x]-mean1),2)/size1) \n",
    "print(\"variance1 =\",variance1)\n"
   ]
  },
  {
   "cell_type": "code",
   "execution_count": 23,
   "metadata": {},
   "outputs": [
    {
     "name": "stdout",
     "output_type": "stream",
     "text": [
      "covariance =  1.67578\n",
      "m =  0.1917\n",
      "c =  2.09053\n",
      "Calculating the value of Y for array1 using y = mx+c\n",
      "[2.3780785, 2.4164186, 2.5506086, 2.7423086, 2.9627635, 3.3078237]\n"
     ]
    },
    {
     "data": {
      "image/png": "[encoded data removed]",
      "text/plain": [
       "<matplotlib.figure.Figure at 0x7f613c7c1d30>"
      ]
     },
     "metadata": {},
     "output_type": "display_data"
    }
   ],
   "source": [
    "covar = 0\n",
    "for x in range(0, size1):\n",
    "    covar = covar + (tf.multiply(tf.subtract(array1[x],mean1), tf.subtract(array2[x],mean2))/size1)\n",
    "\n",
    "m = covar / variance1\n",
    "c = mean2 - m *mean1\n",
    "with tf.Session() as sess:\n",
    "        print(\"covariance = \",sess.run(covar))\n",
    "        print(\"m = \",sess.run(m))\n",
    "        print(\"c = \",sess.run(c))\n",
    "        print(\"Calculating the value of Y for array1 using y = mx+c\")\n",
    "        array3 = []\n",
    "       # print(array3)\n",
    "        for x in range(0, size1):\n",
    "   # x= 2.53     \n",
    "             y= m*array1[x]+c\n",
    "             array3.append(y) \n",
    "        print(sess.run(array3))\n",
    "       \n",
    "import matplotlib.pyplot as plt\n",
    "plt.plot(array1, array2, 'ro')\n",
    "     \n",
    "#plt.plot(array1, array3, 'ro')\n",
    "plt.show()"
   ]
  }
 ],
 "metadata": {
  "kernelspec": {
   "display_name": "Python 3",
   "language": "python",
   "name": "python3"
  },
  "language_info": {
   "codemirror_mode": {
    "name": "ipython",
    "version": 3
   },
   "file_extension": ".py",
   "mimetype": "text/x-python",
   "name": "python",
   "nbconvert_exporter": "python",
   "pygments_lexer": "ipython3",
   "version": "3.6.1"
  }
 },
 "nbformat": 4,
 "nbformat_minor": 2
}
