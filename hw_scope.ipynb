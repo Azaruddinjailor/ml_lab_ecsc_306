{
 "cells": [
  {
   "cell_type": "code",
   "execution_count": 1,
   "metadata": {},
   "outputs": [
    {
     "name": "stdout",
     "output_type": "stream",
     "text": [
      "9\n"
     ]
    }
   ],
   "source": [
    "import tensorflow as tf\n",
    "with tf.name_scope(\"homework1\"):\n",
    "    with tf.name_scope(\"scope_1\"):\n",
    "        a = 7\n",
    "        c = tf.pow(a,2)\n",
    "       \n",
    "    with tf.name_scope(\"scope_2\"):\n",
    "        b = 4\n",
    "        d = tf.pow(b,2)\n",
    "        \n",
    "    with tf.name_scope(\"scope_3\"):\n",
    "        f = tf.multiply(tf.multiply(2,a),b)\n",
    "    with tf.name_scope(\"scope_4\"):\n",
    "        e = tf.add(c,d)\n",
    "    with tf.name_scope(\"scope_5\"):\n",
    "        g = tf.subtract(e,f)       \n",
    "       \n",
    "        \n",
    "        \n",
    "with tf.Session() as sess:\n",
    "    writer = tf.summary.FileWriter(\"/tmp/tboard/output_scope\", sess.graph)\n",
    "    print(sess.run(g))\n",
    "    writer.close()"
   ]
  },
  {
   "cell_type": "code",
   "execution_count": 4,
   "metadata": {},
   "outputs": [
    {
     "name": "stdout",
     "output_type": "stream",
     "text": [
      "25\n"
     ]
    }
   ],
   "source": [
    "import tensorflow as tf\n",
    "with tf.name_scope(\"homework2\"):\n",
    "        with tf.name_scope(\"a2\"):\n",
    "\n",
    "            a = 6\n",
    "            d = tf.pow(a,2) \n",
    "        with tf.name_scope(\"b2\"):\n",
    "            b = 2\n",
    "            e = tf.pow(b,2) \n",
    "        with tf.name_scope(\"c2\"):\n",
    "            c = 3\n",
    "            f = tf.pow(c,2)\n",
    "        with tf.name_scope(\"Add_sqrabc\"):\n",
    "            g = tf.add(tf.add(d,e),f)\n",
    "        with tf.name_scope(\"2ab\"):\n",
    "            h = tf.multiply(tf.multiply(2,a),b)\n",
    "        with tf.name_scope(\"2bc\"):\n",
    "            i = tf.multiply(tf.multiply(2,c),b)\n",
    "        with tf.name_scope(\"2ac\"):\n",
    "            j = tf.multiply(tf.multiply(2,a),c)\n",
    "        with tf.name_scope(\"Add_sqrabc_2ab\"):\n",
    "            k = tf.add(g,h)\n",
    "        with tf.name_scope(\"Add_2bc_2ca\"):\n",
    "            l = tf.add(i,j)\n",
    "        with tf.name_scope(\"result\"):\n",
    "            m = tf.subtract(k,l)\n",
    "\n",
    "with tf.Session() as sess:\n",
    "    writer = tf.summary.FileWriter(\"/tmp/tboard/output2_scope\", sess.graph)\n",
    "    print(sess.run(m))\n",
    "    writer.close()"
   ]
  }
 ],
 "metadata": {
  "kernelspec": {
   "display_name": "Python 3",
   "language": "python",
   "name": "python3"
  },
  "language_info": {
   "codemirror_mode": {
    "name": "ipython",
    "version": 3
   },
   "file_extension": ".py",
   "mimetype": "text/x-python",
   "name": "python",
   "nbconvert_exporter": "python",
   "pygments_lexer": "ipython3",
   "version": "3.6.1"
  }
 },
 "nbformat": 4,
 "nbformat_minor": 2
}
